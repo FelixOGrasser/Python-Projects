{
 "cells": [
  {
   "cell_type": "code",
   "execution_count": null,
   "id": "3231fe36-aedd-4ba6-87f8-c8396beb4836",
   "metadata": {},
   "outputs": [],
   "source": [
    "Name = input(\"Enter you name: \")\n",
    "\n",
    "Weight = int(input(\"Enter your weight in pounds: \"))\n",
    "\n",
    "Height = int(input(\"Enter your height in pounds: \"))\n",
    "\n",
    "BMI = (Weight * 703) / (Height * Height)\n",
    "\n",
    "print(BMI)\n",
    "\n",
    "if BMI>0:\n",
    "    if(BMI<18.5):\n",
    "        print(Name +\", You are underweight.\")\n",
    "    elif(BMI<=24.9):\n",
    "        print(Name +\", You are normal weight.\")\n",
    "    elif(BMI<29.9):\n",
    "        print(Name +\", You are overweight.\")\n",
    "    elif(BMI<34.9):\n",
    "        print(Name +\", You are obese.\")\n",
    "    elif(BMI<39.9):\n",
    "        print(Name +\", You are severely obese.\")\n",
    "    else:\n",
    "        print(Name +\", You are morbidly obese\")\n",
    "else:\n",
    "    print(\"Enter valid input\")"
   ]
  }
 ],
 "metadata": {
  "kernelspec": {
   "display_name": "Python [conda env:base] *",
   "language": "python",
   "name": "conda-base-py"
  },
  "language_info": {
   "codemirror_mode": {
    "name": "ipython",
    "version": 3
   },
   "file_extension": ".py",
   "mimetype": "text/x-python",
   "name": "python",
   "nbconvert_exporter": "python",
   "pygments_lexer": "ipython3",
   "version": "3.12.7"
  }
 },
 "nbformat": 4,
 "nbformat_minor": 5
}
